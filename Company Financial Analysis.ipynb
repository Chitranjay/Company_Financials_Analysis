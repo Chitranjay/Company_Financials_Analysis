{
 "cells": [
  {
   "cell_type": "markdown",
   "id": "9c415145",
   "metadata": {},
   "source": [
    "# <font size='7'><font color='Blue'>Company Financials Analysis</font>\n",
    " > #### *Analyzing Financial Data of a Company for Strategic Insights*\n",
    "\n",
    "## Introduction\n",
    "This data analytics project focuses on conducting a comprehensive analysis of a company's financial data to gain insights into various aspects of the business. By employing data preparation techniques, discount analysis, profit margin analysis, regression analysis, and polynomial regression, we aim to uncover valuable information that can help in business decisions and strategies."
   ]
  },
  {
   "cell_type": "markdown",
   "id": "1c74ef1c",
   "metadata": {},
   "source": [
    "## Data Used\n",
    "The primary dataset utilized in this project is obtained from https://www.kaggle.com/datasets/atharvaarya25/financials. It contains essential information related to sales transactions, including details such as product, price, discounts, costs of goods sold, and various time-related attributes."
   ]
  },
  {
   "cell_type": "markdown",
   "id": "8f489ffc",
   "metadata": {},
   "source": [
    "## Tools\n",
    "To conduct this analysis, we employed the following Python libraries and tools:\n",
    "\n",
    "- Pandas: Data manipulation and analysis.\n",
    "- Numpy: Numerical operations and array manipulation.\n",
    "- Matplotlib: Data visualization.\n",
    "- Seaborn: Enhanced data visualization.\n",
    "- Scikit-learn: Machine learning tools for regression analysis."
   ]
  },
  {
   "cell_type": "markdown",
   "id": "afd1e3e6",
   "metadata": {},
   "source": [
    "## Objective\n",
    "Our project has the following objectives:\n",
    "\n",
    "1. perform comprehensive exploratory data analysis (EDA) on a provided financial dataset.\n",
    "\n",
    "2. This includes loading the dataset, handling missing values, and implementing various data analysis components such as \n",
    "   discount analysis, profit margin analysis, simple linear regression, and polynomial regression.\n",
    "\n",
    "3. The goal is to gain insights into segments, countries, discounts, time series, and profit margins, and to present these \n",
    "   findings through visualizations and documentation.\n",
    "\n",
    "4. Analyze the correlation between product prices and units sold using simple linear regression.\n",
    "\n",
    "5. Determine the impact of the month of the year on gross sales through polynomial regression."
   ]
  },
  {
   "cell_type": "markdown",
   "id": "121d6c4b",
   "metadata": {},
   "source": [
    "## Analysis:-"
   ]
  },
  {
   "cell_type": "markdown",
   "id": "e3bbecde",
   "metadata": {},
   "source": [
    "### Importing Necessary Libraries"
   ]
  },
  {
   "cell_type": "code",
   "execution_count": 3,
   "id": "7dede542",
   "metadata": {},
   "outputs": [],
   "source": [
    "import pandas as pd\n",
    "import numpy as np\n",
    "import matplotlib.pyplot as plt\n",
    "import seaborn as sns\n",
    "from sklearn.linear_model import LinearRegression\n",
    "from sklearn.preprocessing import PolynomialFeatures\n",
    "from sklearn.metrics import r2_score, mean_squared_error\n",
    "from sklearn.impute import SimpleImputer"
   ]
  },
  {
   "cell_type": "markdown",
   "id": "f033774f",
   "metadata": {},
   "source": [
    "### Step 1: Data Preparation"
   ]
  },
  {
   "cell_type": "markdown",
   "id": "c194be82",
   "metadata": {},
   "source": [
    "##### 1.1 Load the Dataset\n",
    "- Download the dataset from the provided URL and load it into a pandas dataframe."
   ]
  },
  {
   "cell_type": "code",
   "execution_count": 4,
   "id": "3d9ac54a",
   "metadata": {},
   "outputs": [],
   "source": [
    "file_path = r\"E:\\Company Fin\\Financial.csv\" \n",
    "df = pd.read_csv(file_path)"
   ]
  },
  {
   "cell_type": "code",
   "execution_count": 5,
   "id": "9617aa08",
   "metadata": {},
   "outputs": [
    {
     "data": {
      "text/html": [
       "<div>\n",
       "<style scoped>\n",
       "    .dataframe tbody tr th:only-of-type {\n",
       "        vertical-align: middle;\n",
       "    }\n",
       "\n",
       "    .dataframe tbody tr th {\n",
       "        vertical-align: top;\n",
       "    }\n",
       "\n",
       "    .dataframe thead th {\n",
       "        text-align: right;\n",
       "    }\n",
       "</style>\n",
       "<table border=\"1\" class=\"dataframe\">\n",
       "  <thead>\n",
       "    <tr style=\"text-align: right;\">\n",
       "      <th></th>\n",
       "      <th>Segment</th>\n",
       "      <th>Country</th>\n",
       "      <th>Product</th>\n",
       "      <th>Discount Band</th>\n",
       "      <th>Units Sold</th>\n",
       "      <th>Manufacturing Price</th>\n",
       "      <th>Sale Price</th>\n",
       "      <th>Gross Sales</th>\n",
       "      <th>Discounts</th>\n",
       "      <th>Sales</th>\n",
       "      <th>COGS</th>\n",
       "      <th>Profit</th>\n",
       "      <th>Date</th>\n",
       "      <th>Month Number</th>\n",
       "      <th>Month Name</th>\n",
       "      <th>Year</th>\n",
       "    </tr>\n",
       "  </thead>\n",
       "  <tbody>\n",
       "    <tr>\n",
       "      <th>0</th>\n",
       "      <td>Government</td>\n",
       "      <td>Canada</td>\n",
       "      <td>Carretera</td>\n",
       "      <td>None</td>\n",
       "      <td>$1,618.50</td>\n",
       "      <td>$3.00</td>\n",
       "      <td>$20.00</td>\n",
       "      <td>$32,370.00</td>\n",
       "      <td>$-</td>\n",
       "      <td>$32,370.00</td>\n",
       "      <td>$16,185.00</td>\n",
       "      <td>$16,185.00</td>\n",
       "      <td>01-01-2014</td>\n",
       "      <td>1</td>\n",
       "      <td>January</td>\n",
       "      <td>2014</td>\n",
       "    </tr>\n",
       "    <tr>\n",
       "      <th>1</th>\n",
       "      <td>Government</td>\n",
       "      <td>Germany</td>\n",
       "      <td>Carretera</td>\n",
       "      <td>None</td>\n",
       "      <td>$1,321.00</td>\n",
       "      <td>$3.00</td>\n",
       "      <td>$20.00</td>\n",
       "      <td>$26,420.00</td>\n",
       "      <td>$-</td>\n",
       "      <td>$26,420.00</td>\n",
       "      <td>$13,210.00</td>\n",
       "      <td>$13,210.00</td>\n",
       "      <td>01-01-2014</td>\n",
       "      <td>1</td>\n",
       "      <td>January</td>\n",
       "      <td>2014</td>\n",
       "    </tr>\n",
       "    <tr>\n",
       "      <th>2</th>\n",
       "      <td>Midmarket</td>\n",
       "      <td>France</td>\n",
       "      <td>Carretera</td>\n",
       "      <td>None</td>\n",
       "      <td>$2,178.00</td>\n",
       "      <td>$3.00</td>\n",
       "      <td>$15.00</td>\n",
       "      <td>$32,670.00</td>\n",
       "      <td>$-</td>\n",
       "      <td>$32,670.00</td>\n",
       "      <td>$21,780.00</td>\n",
       "      <td>$10,890.00</td>\n",
       "      <td>01-06-2014</td>\n",
       "      <td>6</td>\n",
       "      <td>June</td>\n",
       "      <td>2014</td>\n",
       "    </tr>\n",
       "    <tr>\n",
       "      <th>3</th>\n",
       "      <td>Midmarket</td>\n",
       "      <td>Germany</td>\n",
       "      <td>Carretera</td>\n",
       "      <td>None</td>\n",
       "      <td>$888.00</td>\n",
       "      <td>$3.00</td>\n",
       "      <td>$15.00</td>\n",
       "      <td>$13,320.00</td>\n",
       "      <td>$-</td>\n",
       "      <td>$13,320.00</td>\n",
       "      <td>$8,880.00</td>\n",
       "      <td>$4,440.00</td>\n",
       "      <td>01-06-2014</td>\n",
       "      <td>6</td>\n",
       "      <td>June</td>\n",
       "      <td>2014</td>\n",
       "    </tr>\n",
       "    <tr>\n",
       "      <th>4</th>\n",
       "      <td>Midmarket</td>\n",
       "      <td>Mexico</td>\n",
       "      <td>Carretera</td>\n",
       "      <td>None</td>\n",
       "      <td>$2,470.00</td>\n",
       "      <td>$3.00</td>\n",
       "      <td>$15.00</td>\n",
       "      <td>$37,050.00</td>\n",
       "      <td>$-</td>\n",
       "      <td>$37,050.00</td>\n",
       "      <td>$24,700.00</td>\n",
       "      <td>$12,350.00</td>\n",
       "      <td>01-06-2014</td>\n",
       "      <td>6</td>\n",
       "      <td>June</td>\n",
       "      <td>2014</td>\n",
       "    </tr>\n",
       "  </tbody>\n",
       "</table>\n",
       "</div>"
      ],
      "text/plain": [
       "      Segment  Country     Product   Discount Band   Units Sold   \\\n",
       "0  Government   Canada   Carretera            None    $1,618.50    \n",
       "1  Government  Germany   Carretera            None    $1,321.00    \n",
       "2   Midmarket   France   Carretera            None    $2,178.00    \n",
       "3   Midmarket  Germany   Carretera            None      $888.00    \n",
       "4   Midmarket   Mexico   Carretera            None    $2,470.00    \n",
       "\n",
       "   Manufacturing Price   Sale Price   Gross Sales   Discounts         Sales   \\\n",
       "0                $3.00       $20.00    $32,370.00        $-      $32,370.00    \n",
       "1                $3.00       $20.00    $26,420.00        $-      $26,420.00    \n",
       "2                $3.00       $15.00    $32,670.00        $-      $32,670.00    \n",
       "3                $3.00       $15.00    $13,320.00        $-      $13,320.00    \n",
       "4                $3.00       $15.00    $37,050.00        $-      $37,050.00    \n",
       "\n",
       "          COGS        Profit         Date  Month Number Month Name  Year  \n",
       "0   $16,185.00    $16,185.00   01-01-2014             1   January   2014  \n",
       "1   $13,210.00    $13,210.00   01-01-2014             1   January   2014  \n",
       "2   $21,780.00    $10,890.00   01-06-2014             6      June   2014  \n",
       "3    $8,880.00     $4,440.00   01-06-2014             6      June   2014  \n",
       "4   $24,700.00    $12,350.00   01-06-2014             6      June   2014  "
      ]
     },
     "execution_count": 5,
     "metadata": {},
     "output_type": "execute_result"
    }
   ],
   "source": [
    "df.head()"
   ]
  },
  {
   "cell_type": "markdown",
   "id": "c7b370de",
   "metadata": {},
   "source": [
    "#### 1.2 Handling Pre-processing issues"
   ]
  },
  {
   "cell_type": "markdown",
   "id": "a95ef7f8",
   "metadata": {},
   "source": [
    "* As there are some unnecessary whitespaces present in column names that needs to be changed"
   ]
  },
  {
   "cell_type": "code",
   "execution_count": 6,
   "id": "0e33bdf8",
   "metadata": {},
   "outputs": [],
   "source": [
    "df.rename(columns={' Product ': 'Product', ' Discount Band ': 'Discount_Band', ' Units Sold ': 'Units_Sold',\n",
    "                   ' Manufacturing Price ': 'Manufacturing_Price', ' Sale Price ': 'Sale_Price',\n",
    "                    ' Gross Sales ': 'Gross_Sales', ' Discounts ': 'Discounts', '  Sales ': 'Sales', ' COGS ': 'COGS',\n",
    "                    ' Profit ': 'Profit', 'Month Number': 'Month_Number'}, inplace=True)"
   ]
  },
  {
   "cell_type": "code",
   "execution_count": 7,
   "id": "b9539544",
   "metadata": {},
   "outputs": [
    {
     "data": {
      "text/plain": [
       "Index(['Segment', 'Country', 'Product', 'Discount_Band', 'Units_Sold',\n",
       "       'Manufacturing_Price', 'Sale_Price', 'Gross_Sales', 'Discounts',\n",
       "       'Sales', 'COGS', 'Profit', 'Date', 'Month_Number', 'Month Name',\n",
       "       'Year'],\n",
       "      dtype='object')"
      ]
     },
     "execution_count": 7,
     "metadata": {},
     "output_type": "execute_result"
    }
   ],
   "source": [
    "df.columns"
   ]
  },
  {
   "cell_type": "markdown",
   "id": "d04a7b54",
   "metadata": {},
   "source": [
    "* Removing  <br> '$' <br> ',' <br> and replacing <br> '-' to '0'  from the data,"
   ]
  },
  {
   "cell_type": "code",
   "execution_count": 8,
   "id": "76e69106",
   "metadata": {},
   "outputs": [],
   "source": [
    "df = df.replace({'\\$':''}, regex = True)\n",
    "df = df.replace({'\\,':''}, regex = True)\n",
    "replacement_rules = {'Discounts' : {'-': '0'}}\n",
    "df.replace(replacement_rules, regex = True, inplace = True)"
   ]
  },
  {
   "cell_type": "code",
   "execution_count": 9,
   "id": "fe4a59ca",
   "metadata": {},
   "outputs": [
    {
     "data": {
      "text/html": [
       "<div>\n",
       "<style scoped>\n",
       "    .dataframe tbody tr th:only-of-type {\n",
       "        vertical-align: middle;\n",
       "    }\n",
       "\n",
       "    .dataframe tbody tr th {\n",
       "        vertical-align: top;\n",
       "    }\n",
       "\n",
       "    .dataframe thead th {\n",
       "        text-align: right;\n",
       "    }\n",
       "</style>\n",
       "<table border=\"1\" class=\"dataframe\">\n",
       "  <thead>\n",
       "    <tr style=\"text-align: right;\">\n",
       "      <th></th>\n",
       "      <th>Segment</th>\n",
       "      <th>Country</th>\n",
       "      <th>Product</th>\n",
       "      <th>Discount_Band</th>\n",
       "      <th>Units_Sold</th>\n",
       "      <th>Manufacturing_Price</th>\n",
       "      <th>Sale_Price</th>\n",
       "      <th>Gross_Sales</th>\n",
       "      <th>Discounts</th>\n",
       "      <th>Sales</th>\n",
       "      <th>COGS</th>\n",
       "      <th>Profit</th>\n",
       "      <th>Date</th>\n",
       "      <th>Month_Number</th>\n",
       "      <th>Month Name</th>\n",
       "      <th>Year</th>\n",
       "    </tr>\n",
       "  </thead>\n",
       "  <tbody>\n",
       "    <tr>\n",
       "      <th>0</th>\n",
       "      <td>Government</td>\n",
       "      <td>Canada</td>\n",
       "      <td>Carretera</td>\n",
       "      <td>None</td>\n",
       "      <td>1618.50</td>\n",
       "      <td>3.00</td>\n",
       "      <td>20.00</td>\n",
       "      <td>32370.00</td>\n",
       "      <td>0</td>\n",
       "      <td>32370.00</td>\n",
       "      <td>16185.00</td>\n",
       "      <td>16185.00</td>\n",
       "      <td>01-01-2014</td>\n",
       "      <td>1</td>\n",
       "      <td>January</td>\n",
       "      <td>2014</td>\n",
       "    </tr>\n",
       "    <tr>\n",
       "      <th>1</th>\n",
       "      <td>Government</td>\n",
       "      <td>Germany</td>\n",
       "      <td>Carretera</td>\n",
       "      <td>None</td>\n",
       "      <td>1321.00</td>\n",
       "      <td>3.00</td>\n",
       "      <td>20.00</td>\n",
       "      <td>26420.00</td>\n",
       "      <td>0</td>\n",
       "      <td>26420.00</td>\n",
       "      <td>13210.00</td>\n",
       "      <td>13210.00</td>\n",
       "      <td>01-01-2014</td>\n",
       "      <td>1</td>\n",
       "      <td>January</td>\n",
       "      <td>2014</td>\n",
       "    </tr>\n",
       "    <tr>\n",
       "      <th>2</th>\n",
       "      <td>Midmarket</td>\n",
       "      <td>France</td>\n",
       "      <td>Carretera</td>\n",
       "      <td>None</td>\n",
       "      <td>2178.00</td>\n",
       "      <td>3.00</td>\n",
       "      <td>15.00</td>\n",
       "      <td>32670.00</td>\n",
       "      <td>0</td>\n",
       "      <td>32670.00</td>\n",
       "      <td>21780.00</td>\n",
       "      <td>10890.00</td>\n",
       "      <td>01-06-2014</td>\n",
       "      <td>6</td>\n",
       "      <td>June</td>\n",
       "      <td>2014</td>\n",
       "    </tr>\n",
       "    <tr>\n",
       "      <th>3</th>\n",
       "      <td>Midmarket</td>\n",
       "      <td>Germany</td>\n",
       "      <td>Carretera</td>\n",
       "      <td>None</td>\n",
       "      <td>888.00</td>\n",
       "      <td>3.00</td>\n",
       "      <td>15.00</td>\n",
       "      <td>13320.00</td>\n",
       "      <td>0</td>\n",
       "      <td>13320.00</td>\n",
       "      <td>8880.00</td>\n",
       "      <td>4440.00</td>\n",
       "      <td>01-06-2014</td>\n",
       "      <td>6</td>\n",
       "      <td>June</td>\n",
       "      <td>2014</td>\n",
       "    </tr>\n",
       "    <tr>\n",
       "      <th>4</th>\n",
       "      <td>Midmarket</td>\n",
       "      <td>Mexico</td>\n",
       "      <td>Carretera</td>\n",
       "      <td>None</td>\n",
       "      <td>2470.00</td>\n",
       "      <td>3.00</td>\n",
       "      <td>15.00</td>\n",
       "      <td>37050.00</td>\n",
       "      <td>0</td>\n",
       "      <td>37050.00</td>\n",
       "      <td>24700.00</td>\n",
       "      <td>12350.00</td>\n",
       "      <td>01-06-2014</td>\n",
       "      <td>6</td>\n",
       "      <td>June</td>\n",
       "      <td>2014</td>\n",
       "    </tr>\n",
       "  </tbody>\n",
       "</table>\n",
       "</div>"
      ],
      "text/plain": [
       "      Segment  Country      Product Discount_Band Units_Sold  \\\n",
       "0  Government   Canada   Carretera          None    1618.50    \n",
       "1  Government  Germany   Carretera          None    1321.00    \n",
       "2   Midmarket   France   Carretera          None    2178.00    \n",
       "3   Midmarket  Germany   Carretera          None     888.00    \n",
       "4   Midmarket   Mexico   Carretera          None    2470.00    \n",
       "\n",
       "  Manufacturing_Price Sale_Price Gross_Sales Discounts       Sales  \\\n",
       "0               3.00      20.00    32370.00       0      32370.00    \n",
       "1               3.00      20.00    26420.00       0      26420.00    \n",
       "2               3.00      15.00    32670.00       0      32670.00    \n",
       "3               3.00      15.00    13320.00       0      13320.00    \n",
       "4               3.00      15.00    37050.00       0      37050.00    \n",
       "\n",
       "         COGS      Profit        Date  Month_Number Month Name  Year  \n",
       "0   16185.00    16185.00   01-01-2014             1   January   2014  \n",
       "1   13210.00    13210.00   01-01-2014             1   January   2014  \n",
       "2   21780.00    10890.00   01-06-2014             6      June   2014  \n",
       "3    8880.00     4440.00   01-06-2014             6      June   2014  \n",
       "4   24700.00    12350.00   01-06-2014             6      June   2014  "
      ]
     },
     "execution_count": 9,
     "metadata": {},
     "output_type": "execute_result"
    }
   ],
   "source": [
    "df.head()"
   ]
  },
  {
   "cell_type": "code",
   "execution_count": 10,
   "id": "0c8a1f3c",
   "metadata": {},
   "outputs": [
    {
     "name": "stdout",
     "output_type": "stream",
     "text": [
      "<class 'pandas.core.frame.DataFrame'>\n",
      "RangeIndex: 700 entries, 0 to 699\n",
      "Data columns (total 16 columns):\n",
      " #   Column               Non-Null Count  Dtype \n",
      "---  ------               --------------  ----- \n",
      " 0   Segment              700 non-null    object\n",
      " 1   Country              700 non-null    object\n",
      " 2   Product              700 non-null    object\n",
      " 3   Discount_Band        700 non-null    object\n",
      " 4   Units_Sold           700 non-null    object\n",
      " 5   Manufacturing_Price  700 non-null    object\n",
      " 6   Sale_Price           700 non-null    object\n",
      " 7   Gross_Sales          700 non-null    object\n",
      " 8   Discounts            700 non-null    object\n",
      " 9   Sales                700 non-null    object\n",
      " 10  COGS                 700 non-null    object\n",
      " 11  Profit               700 non-null    object\n",
      " 12  Date                 700 non-null    object\n",
      " 13  Month_Number         700 non-null    int64 \n",
      " 14  Month Name           700 non-null    object\n",
      " 15  Year                 700 non-null    int64 \n",
      "dtypes: int64(2), object(14)\n",
      "memory usage: 87.6+ KB\n"
     ]
    }
   ],
   "source": [
    "df.info()"
   ]
  },
  {
   "cell_type": "markdown",
   "id": "585a4801",
   "metadata": {},
   "source": [
    "* Many numerical features have dtype as object which needs to be changed to numeric"
   ]
  },
  {
   "cell_type": "code",
   "execution_count": 11,
   "id": "c70123a2",
   "metadata": {},
   "outputs": [],
   "source": [
    "numeric_cols = ['Units_Sold', 'Manufacturing_Price', 'Sale_Price', 'Gross_Sales', 'Discounts', 'Sales', 'COGS', 'Profit']\n",
    "df[numeric_cols] = df[numeric_cols].apply(pd.to_numeric, errors = 'coerce')"
   ]
  },
  {
   "cell_type": "markdown",
   "id": "fce28535",
   "metadata": {},
   "source": [
    "* Changing 'Date' column's dtype to datetime"
   ]
  },
  {
   "cell_type": "code",
   "execution_count": 12,
   "id": "8df881ba",
   "metadata": {},
   "outputs": [],
   "source": [
    "df['Date'] = pd.to_datetime(df['Date'])"
   ]
  },
  {
   "cell_type": "code",
   "execution_count": 13,
   "id": "2d8272c7",
   "metadata": {},
   "outputs": [
    {
     "name": "stdout",
     "output_type": "stream",
     "text": [
      "<class 'pandas.core.frame.DataFrame'>\n",
      "RangeIndex: 700 entries, 0 to 699\n",
      "Data columns (total 16 columns):\n",
      " #   Column               Non-Null Count  Dtype         \n",
      "---  ------               --------------  -----         \n",
      " 0   Segment              700 non-null    object        \n",
      " 1   Country              700 non-null    object        \n",
      " 2   Product              700 non-null    object        \n",
      " 3   Discount_Band        700 non-null    object        \n",
      " 4   Units_Sold           700 non-null    float64       \n",
      " 5   Manufacturing_Price  700 non-null    float64       \n",
      " 6   Sale_Price           700 non-null    float64       \n",
      " 7   Gross_Sales          700 non-null    float64       \n",
      " 8   Discounts            700 non-null    float64       \n",
      " 9   Sales                700 non-null    float64       \n",
      " 10  COGS                 700 non-null    float64       \n",
      " 11  Profit               637 non-null    float64       \n",
      " 12  Date                 700 non-null    datetime64[ns]\n",
      " 13  Month_Number         700 non-null    int64         \n",
      " 14  Month Name           700 non-null    object        \n",
      " 15  Year                 700 non-null    int64         \n",
      "dtypes: datetime64[ns](1), float64(8), int64(2), object(5)\n",
      "memory usage: 87.6+ KB\n"
     ]
    }
   ],
   "source": [
    "df.info()"
   ]
  },
  {
   "cell_type": "markdown",
   "id": "97aa5862",
   "metadata": {},
   "source": [
    "#### 1.3 Handling Missing values"
   ]
  },
  {
   "cell_type": "code",
   "execution_count": 14,
   "id": "f2a8ee2c",
   "metadata": {},
   "outputs": [
    {
     "data": {
      "text/plain": [
       "Segment                 0\n",
       "Country                 0\n",
       "Product                 0\n",
       "Discount_Band           0\n",
       "Units_Sold              0\n",
       "Manufacturing_Price     0\n",
       "Sale_Price              0\n",
       "Gross_Sales             0\n",
       "Discounts               0\n",
       "Sales                   0\n",
       "COGS                    0\n",
       "Profit                 63\n",
       "Date                    0\n",
       "Month_Number            0\n",
       "Month Name              0\n",
       "Year                    0\n",
       "dtype: int64"
      ]
     },
     "execution_count": 14,
     "metadata": {},
     "output_type": "execute_result"
    }
   ],
   "source": [
    "#Checking for missing values\n",
    "df.isnull().sum()"
   ]
  },
  {
   "cell_type": "markdown",
   "id": "562849a9",
   "metadata": {},
   "source": [
    "### Step 2: Discount Analysis"
   ]
  },
  {
   "cell_type": "markdown",
   "id": "709de24b",
   "metadata": {},
   "source": [
    "#### 2.1 Impact of Discounts on Gross Sales\n",
    "- Analyzing the Impact of Discounts on Gross Sales by calculating the Correlation between discounts and gross sales."
   ]
  },
  {
   "cell_type": "code",
   "execution_count": 15,
   "id": "2eb60fa4",
   "metadata": {},
   "outputs": [
    {
     "name": "stdout",
     "output_type": "stream",
     "text": [
      "Correlation b/w Discounts and Gross_Sales: 0.78\n"
     ]
    }
   ],
   "source": [
    "correlation = df['Discounts'].corr(df['Gross_Sales'])\n",
    "print(f\"Correlation b/w Discounts and Gross_Sales: {correlation:.2f}\")"
   ]
  },
  {
   "cell_type": "markdown",
   "id": "e4a9d930",
   "metadata": {},
   "source": [
    "**In our analysis, we discovered a strong and positive correlation between discounts and gross sales, with a correlation coefficient of 0.78, indicating a robust relationship between these variables.**\n",
    "\n",
    "**This means that as discounts increase, gross sales tend to increase as well. In simpler terms, offering discounts can have a positive impact on this company's gross sales. This positive association suggests that customers are more likely to make purchases when discounts are offered, ultimately boosting sales revenue.**"
   ]
  },
  {
   "cell_type": "markdown",
   "id": "056f86b3",
   "metadata": {},
   "source": [
    "#### 2.2 Average Gross Sales for Each Discount Band\n",
    "- Calculating the average gross sales for each discount band."
   ]
  },
  {
   "cell_type": "code",
   "execution_count": 16,
   "id": "e361b790",
   "metadata": {},
   "outputs": [
    {
     "name": "stdout",
     "output_type": "stream",
     "text": [
      "  Discount_Band    Gross_Sales\n",
      "0         High   174242.910204\n",
      "1          Low   221971.590625\n",
      "2       Medium   172656.929752\n",
      "3         None   149880.264151\n"
     ]
    }
   ],
   "source": [
    "average_sales_by_discount = df.groupby('Discount_Band')['Gross_Sales'].mean().reset_index()\n",
    "print(average_sales_by_discount)"
   ]
  },
  {
   "cell_type": "markdown",
   "id": "4c87948a",
   "metadata": {},
   "source": [
    "#### 2.3 Box Plot Visualization\n",
    "- Creating a box plot to visualize the distribution of gross sales across different discount bands."
   ]
  },
  {
   "cell_type": "code",
   "execution_count": 17,
   "id": "894e4249",
   "metadata": {},
   "outputs": [
    {
     "data": {
      "image/png": "[encoded data removed]",
      "text/plain": [
       "<Figure size 1000x600 with 1 Axes>"
      ]
     },
     "metadata": {},
     "output_type": "display_data"
    }
   ],
   "source": [
    "plt.figure(figsize=(10, 6))\n",
    "sns.boxplot(x='Discount_Band', y='Gross_Sales', data=df)\n",
    "plt.title('Distribution of Gross Sales by Discount Band')\n",
    "plt.xlabel('Discount Band')\n",
    "plt.ylabel('Gross Sales')\n",
    "plt.xticks(rotation=45)\n",
    "plt.show()"
   ]
  },
  {
   "cell_type": "markdown",
   "id": "8506cf7c",
   "metadata": {},
   "source": [
    "**From this Box Plot, we found intriguing facts about sales and discounts:**\n",
    "\n",
    "- **Highest Median Sales:** The Low discount band boasts the highest median gross sales, making it a strong performer.\n",
    "\n",
    "- **Lowest Median Sales:** On the other hand, the None discount band exhibits the lowest median gross sales.\n",
    "\n",
    "- **Varying Distributions:** The distribution of gross sales varies across bands. It's widest for the Low discount band, suggesting diverse sales patterns. In contrast, the None discount band's distribution is the narrowest, indicating a more consistent sales trend.\n",
    "\n",
    "- **High Discount Outliers:** Notably, the High discount band stands out with numerous outliers. These outliers represent exceptionally high sales, likely due to special promotions or discounts, warranting further investigation.\n",
    "\n",
    "- **Stable None Discount:** In contrast, the None discount band lacks outliers, implying consistent and predictable sales within this category. When no discounts are applied, sales tend to follow a stable pattern.\n",
    "\n",
    "These findings highlight how discounts affect sales, providing insights for pricing strategies."
   ]
  },
  {
   "cell_type": "markdown",
   "id": "3d6ca114",
   "metadata": {},
   "source": [
    "### Step 3: Profit Margin Analysis"
   ]
  },
  {
   "cell_type": "markdown",
   "id": "8ecf1705",
   "metadata": {},
   "source": [
    "#### 3.1 Calculate Profit Margin\n",
    "- Calculating the profit margin for each row using the formula: (Gross Sales - COGS) / Gross Sales."
   ]
  },
  {
   "cell_type": "code",
   "execution_count": 18,
   "id": "05f0b014",
   "metadata": {},
   "outputs": [],
   "source": [
    "df['Profit_Margin'] = (df['Gross_Sales'] - df['COGS']) / df['Gross_Sales']"
   ]
  },
  {
   "cell_type": "code",
   "execution_count": 19,
   "id": "aa903609",
   "metadata": {},
   "outputs": [
    {
     "data": {
      "text/html": [
       "<div>\n",
       "<style scoped>\n",
       "    .dataframe tbody tr th:only-of-type {\n",
       "        vertical-align: middle;\n",
       "    }\n",
       "\n",
       "    .dataframe tbody tr th {\n",
       "        vertical-align: top;\n",
       "    }\n",
       "\n",
       "    .dataframe thead th {\n",
       "        text-align: right;\n",
       "    }\n",
       "</style>\n",
       "<table border=\"1\" class=\"dataframe\">\n",
       "  <thead>\n",
       "    <tr style=\"text-align: right;\">\n",
       "      <th></th>\n",
       "      <th>Segment</th>\n",
       "      <th>Country</th>\n",
       "      <th>Product</th>\n",
       "      <th>Discount_Band</th>\n",
       "      <th>Units_Sold</th>\n",
       "      <th>Manufacturing_Price</th>\n",
       "      <th>Sale_Price</th>\n",
       "      <th>Gross_Sales</th>\n",
       "      <th>Discounts</th>\n",
       "      <th>Sales</th>\n",
       "      <th>COGS</th>\n",
       "      <th>Profit</th>\n",
       "      <th>Date</th>\n",
       "      <th>Month_Number</th>\n",
       "      <th>Month Name</th>\n",
       "      <th>Year</th>\n",
       "      <th>Profit_Margin</th>\n",
       "    </tr>\n",
       "  </thead>\n",
       "  <tbody>\n",
       "    <tr>\n",
       "      <th>0</th>\n",
       "      <td>Government</td>\n",
       "      <td>Canada</td>\n",
       "      <td>Carretera</td>\n",
       "      <td>None</td>\n",
       "      <td>1618.5</td>\n",
       "      <td>3.0</td>\n",
       "      <td>20.0</td>\n",
       "      <td>32370.0</td>\n",
       "      <td>0.0</td>\n",
       "      <td>32370.0</td>\n",
       "      <td>16185.0</td>\n",
       "      <td>16185.0</td>\n",
       "      <td>2014-01-01</td>\n",
       "      <td>1</td>\n",
       "      <td>January</td>\n",
       "      <td>2014</td>\n",
       "      <td>0.500000</td>\n",
       "    </tr>\n",
       "    <tr>\n",
       "      <th>1</th>\n",
       "      <td>Government</td>\n",
       "      <td>Germany</td>\n",
       "      <td>Carretera</td>\n",
       "      <td>None</td>\n",
       "      <td>1321.0</td>\n",
       "      <td>3.0</td>\n",
       "      <td>20.0</td>\n",
       "      <td>26420.0</td>\n",
       "      <td>0.0</td>\n",
       "      <td>26420.0</td>\n",
       "      <td>13210.0</td>\n",
       "      <td>13210.0</td>\n",
       "      <td>2014-01-01</td>\n",
       "      <td>1</td>\n",
       "      <td>January</td>\n",
       "      <td>2014</td>\n",
       "      <td>0.500000</td>\n",
       "    </tr>\n",
       "    <tr>\n",
       "      <th>2</th>\n",
       "      <td>Midmarket</td>\n",
       "      <td>France</td>\n",
       "      <td>Carretera</td>\n",
       "      <td>None</td>\n",
       "      <td>2178.0</td>\n",
       "      <td>3.0</td>\n",
       "      <td>15.0</td>\n",
       "      <td>32670.0</td>\n",
       "      <td>0.0</td>\n",
       "      <td>32670.0</td>\n",
       "      <td>21780.0</td>\n",
       "      <td>10890.0</td>\n",
       "      <td>2014-01-06</td>\n",
       "      <td>6</td>\n",
       "      <td>June</td>\n",
       "      <td>2014</td>\n",
       "      <td>0.333333</td>\n",
       "    </tr>\n",
       "    <tr>\n",
       "      <th>3</th>\n",
       "      <td>Midmarket</td>\n",
       "      <td>Germany</td>\n",
       "      <td>Carretera</td>\n",
       "      <td>None</td>\n",
       "      <td>888.0</td>\n",
       "      <td>3.0</td>\n",
       "      <td>15.0</td>\n",
       "      <td>13320.0</td>\n",
       "      <td>0.0</td>\n",
       "      <td>13320.0</td>\n",
       "      <td>8880.0</td>\n",
       "      <td>4440.0</td>\n",
       "      <td>2014-01-06</td>\n",
       "      <td>6</td>\n",
       "      <td>June</td>\n",
       "      <td>2014</td>\n",
       "      <td>0.333333</td>\n",
       "    </tr>\n",
       "    <tr>\n",
       "      <th>4</th>\n",
       "      <td>Midmarket</td>\n",
       "      <td>Mexico</td>\n",
       "      <td>Carretera</td>\n",
       "      <td>None</td>\n",
       "      <td>2470.0</td>\n",
       "      <td>3.0</td>\n",
       "      <td>15.0</td>\n",
       "      <td>37050.0</td>\n",
       "      <td>0.0</td>\n",
       "      <td>37050.0</td>\n",
       "      <td>24700.0</td>\n",
       "      <td>12350.0</td>\n",
       "      <td>2014-01-06</td>\n",
       "      <td>6</td>\n",
       "      <td>June</td>\n",
       "      <td>2014</td>\n",
       "      <td>0.333333</td>\n",
       "    </tr>\n",
       "  </tbody>\n",
       "</table>\n",
       "</div>"
      ],
      "text/plain": [
       "      Segment  Country      Product Discount_Band  Units_Sold  \\\n",
       "0  Government   Canada   Carretera          None       1618.5   \n",
       "1  Government  Germany   Carretera          None       1321.0   \n",
       "2   Midmarket   France   Carretera          None       2178.0   \n",
       "3   Midmarket  Germany   Carretera          None        888.0   \n",
       "4   Midmarket   Mexico   Carretera          None       2470.0   \n",
       "\n",
       "   Manufacturing_Price  Sale_Price  Gross_Sales  Discounts    Sales     COGS  \\\n",
       "0                  3.0        20.0      32370.0        0.0  32370.0  16185.0   \n",
       "1                  3.0        20.0      26420.0        0.0  26420.0  13210.0   \n",
       "2                  3.0        15.0      32670.0        0.0  32670.0  21780.0   \n",
       "3                  3.0        15.0      13320.0        0.0  13320.0   8880.0   \n",
       "4                  3.0        15.0      37050.0        0.0  37050.0  24700.0   \n",
       "\n",
       "    Profit       Date  Month_Number Month Name  Year  Profit_Margin  \n",
       "0  16185.0 2014-01-01             1   January   2014       0.500000  \n",
       "1  13210.0 2014-01-01             1   January   2014       0.500000  \n",
       "2  10890.0 2014-01-06             6      June   2014       0.333333  \n",
       "3   4440.0 2014-01-06             6      June   2014       0.333333  \n",
       "4  12350.0 2014-01-06             6      June   2014       0.333333  "
      ]
     },
     "execution_count": 19,
     "metadata": {},
     "output_type": "execute_result"
    }
   ],
   "source": [
    "df.head()"
   ]
  },
  {
   "cell_type": "markdown",
   "id": "08cd665b",
   "metadata": {},
   "source": [
    "#### 3.2 Distribution of Profit Margins\n",
    "- Analyzing the distribution of profit margins by histogram chart."
   ]
  },
  {
   "cell_type": "code",
   "execution_count": 20,
   "id": "5530ae28",
   "metadata": {},
   "outputs": [
    {
     "data": {
      "image/png": "[encoded data removed]",
      "text/plain": [
       "<Figure size 640x480 with 1 Axes>"
      ]
     },
     "metadata": {},
     "output_type": "display_data"
    }
   ],
   "source": [
    "plt.hist(df['Profit_Margin'], bins=20)\n",
    "plt.xlabel('Profit Margin (%)')\n",
    "plt.ylabel('Number of Rows')\n",
    "plt.title('Distribution of Profit Margins')\n",
    "plt.show()"
   ]
  },
  {
   "cell_type": "markdown",
   "id": "a9cf4d22",
   "metadata": {},
   "source": [
    "**This Histogram revealed some key points about the Distribution of Profit margins:**\n",
    "\n",
    "- **Diverse Margins:** The company operates with various profit margins, reflecting different business strategies.\n",
    "\n",
    "- **Profit Range:** Most transactions fall within the 20% to 50% profit margin range.\n",
    "\n",
    "- **Extreme Margins:** Some transactions boast margins above 50%, while others dip below 20%.\n",
    "\n",
    "- **Peak at 30%:** The majority of deals cluster around a 30% profit margin.\n",
    "\n",
    "- **Right Skew:** More transactions feature lower profit margins, indicating a trend toward profitability rather than high margins.\n",
    "\n",
    "These findings illuminate the company's profit landscape, aiding decision-makers in optimizing their financial strategies."
   ]
  },
  {
   "cell_type": "markdown",
   "id": "a2a5e48b",
   "metadata": {},
   "source": [
    "#### 3.3 Violin Plot for Profit Margins\n",
    "- Comparing profit margins across different segments using a violin plot."
   ]
  },
  {
   "cell_type": "code",
   "execution_count": 21,
   "id": "f131c2c9",
   "metadata": {},
   "outputs": [
    {
     "data": {
      "image/png": "[encoded data removed]",
      "text/plain": [
       "<Figure size 1000x600 with 1 Axes>"
      ]
     },
     "metadata": {},
     "output_type": "display_data"
    }
   ],
   "source": [
    "plt.figure(figsize=(10, 6))\n",
    "sns.violinplot(x='Segment', y='Profit_Margin', data=df)\n",
    "plt.title('Profit Margins Across Different Segments')\n",
    "plt.xlabel('Segment')\n",
    "plt.ylabel('Profit Margin')\n",
    "plt.show()"
   ]
  },
  {
   "cell_type": "markdown",
   "id": "9736cd71",
   "metadata": {},
   "source": [
    "**Unraveling Profit Margins by Segment**\n",
    "\n",
    "Our violin plot uncovers intriguing profit margin insights:\n",
    "\n",
    "- **Government's Variation**: The Government segment exhibits the broadest profit margin distribution, suggesting varying profitability within government contracts. It's a mix of high and low-profit projects (multimodal data).\n",
    "\n",
    "- **Channel Partners Lead**: Channel Partners boast the highest profit margins, followed by the Government segment.\n",
    "\n",
    "- **Enterprise Lags**: The Enterprise segment lags behind with the lowest profit margins.\n",
    "\n",
    "- **Segment Uniformity**: Unlike the Government segment, the other segments feature unimodal distributions. This implies more consistent profit margins concentrated around specific values.\n",
    "\n",
    "These revelations help tailor strategies for different segments, optimizing profitability.\n"
   ]
  },
  {
   "cell_type": "markdown",
   "id": "f2406bbd",
   "metadata": {},
   "source": [
    "### Step 4: Discount Level vs. Profit (Simple Linear Regression)"
   ]
  },
  {
   "cell_type": "markdown",
   "id": "2414b153",
   "metadata": {},
   "source": [
    "#### 4.1 Simple Linear Regression Analysis\n",
    "- Performing a simple linear regression analysis to understand the relationship between different discount levels (High, Medium, None, Low) and the company's profit."
   ]
  },
  {
   "cell_type": "markdown",
   "id": "63c491e8",
   "metadata": {},
   "source": [
    "##### Creating a separate dataframe for this analysis"
   ]
  },
  {
   "cell_type": "code",
   "execution_count": 22,
   "id": "423b0076",
   "metadata": {},
   "outputs": [],
   "source": [
    "slr_df = df.copy()"
   ]
  },
  {
   "cell_type": "markdown",
   "id": "1a542478",
   "metadata": {},
   "source": [
    "##### Encoding Categorical Variables\n",
    "Since 'Discount Band' is a categorical variable (e.g., High, Medium, None, Low), we are going to encode it into numerical values using one-hot encoding."
   ]
  },
  {
   "cell_type": "code",
   "execution_count": 23,
   "id": "f627be09",
   "metadata": {},
   "outputs": [],
   "source": [
    "slr_df = pd.get_dummies(df, columns=['Discount_Band'], drop_first=True)"
   ]
  },
  {
   "cell_type": "code",
   "execution_count": 24,
   "id": "b775fe92",
   "metadata": {},
   "outputs": [
    {
     "data": {
      "text/html": [
       "<div>\n",
       "<style scoped>\n",
       "    .dataframe tbody tr th:only-of-type {\n",
       "        vertical-align: middle;\n",
       "    }\n",
       "\n",
       "    .dataframe tbody tr th {\n",
       "        vertical-align: top;\n",
       "    }\n",
       "\n",
       "    .dataframe thead th {\n",
       "        text-align: right;\n",
       "    }\n",
       "</style>\n",
       "<table border=\"1\" class=\"dataframe\">\n",
       "  <thead>\n",
       "    <tr style=\"text-align: right;\">\n",
       "      <th></th>\n",
       "      <th>Segment</th>\n",
       "      <th>Country</th>\n",
       "      <th>Product</th>\n",
       "      <th>Units_Sold</th>\n",
       "      <th>Manufacturing_Price</th>\n",
       "      <th>Sale_Price</th>\n",
       "      <th>Gross_Sales</th>\n",
       "      <th>Discounts</th>\n",
       "      <th>Sales</th>\n",
       "      <th>COGS</th>\n",
       "      <th>Profit</th>\n",
       "      <th>Date</th>\n",
       "      <th>Month_Number</th>\n",
       "      <th>Month Name</th>\n",
       "      <th>Year</th>\n",
       "      <th>Profit_Margin</th>\n",
       "      <th>Discount_Band_ Low</th>\n",
       "      <th>Discount_Band_ Medium</th>\n",
       "      <th>Discount_Band_ None</th>\n",
       "    </tr>\n",
       "  </thead>\n",
       "  <tbody>\n",
       "    <tr>\n",
       "      <th>0</th>\n",
       "      <td>Government</td>\n",
       "      <td>Canada</td>\n",
       "      <td>Carretera</td>\n",
       "      <td>1618.5</td>\n",
       "      <td>3.0</td>\n",
       "      <td>20.0</td>\n",
       "      <td>32370.0</td>\n",
       "      <td>0.0</td>\n",
       "      <td>32370.0</td>\n",
       "      <td>16185.0</td>\n",
       "      <td>16185.0</td>\n",
       "      <td>2014-01-01</td>\n",
       "      <td>1</td>\n",
       "      <td>January</td>\n",
       "      <td>2014</td>\n",
       "      <td>0.500000</td>\n",
       "      <td>0</td>\n",
       "      <td>0</td>\n",
       "      <td>1</td>\n",
       "    </tr>\n",
       "    <tr>\n",
       "      <th>1</th>\n",
       "      <td>Government</td>\n",
       "      <td>Germany</td>\n",
       "      <td>Carretera</td>\n",
       "      <td>1321.0</td>\n",
       "      <td>3.0</td>\n",
       "      <td>20.0</td>\n",
       "      <td>26420.0</td>\n",
       "      <td>0.0</td>\n",
       "      <td>26420.0</td>\n",
       "      <td>13210.0</td>\n",
       "      <td>13210.0</td>\n",
       "      <td>2014-01-01</td>\n",
       "      <td>1</td>\n",
       "      <td>January</td>\n",
       "      <td>2014</td>\n",
       "      <td>0.500000</td>\n",
       "      <td>0</td>\n",
       "      <td>0</td>\n",
       "      <td>1</td>\n",
       "    </tr>\n",
       "    <tr>\n",
       "      <th>2</th>\n",
       "      <td>Midmarket</td>\n",
       "      <td>France</td>\n",
       "      <td>Carretera</td>\n",
       "      <td>2178.0</td>\n",
       "      <td>3.0</td>\n",
       "      <td>15.0</td>\n",
       "      <td>32670.0</td>\n",
       "      <td>0.0</td>\n",
       "      <td>32670.0</td>\n",
       "      <td>21780.0</td>\n",
       "      <td>10890.0</td>\n",
       "      <td>2014-01-06</td>\n",
       "      <td>6</td>\n",
       "      <td>June</td>\n",
       "      <td>2014</td>\n",
       "      <td>0.333333</td>\n",
       "      <td>0</td>\n",
       "      <td>0</td>\n",
       "      <td>1</td>\n",
       "    </tr>\n",
       "    <tr>\n",
       "      <th>3</th>\n",
       "      <td>Midmarket</td>\n",
       "      <td>Germany</td>\n",
       "      <td>Carretera</td>\n",
       "      <td>888.0</td>\n",
       "      <td>3.0</td>\n",
       "      <td>15.0</td>\n",
       "      <td>13320.0</td>\n",
       "      <td>0.0</td>\n",
       "      <td>13320.0</td>\n",
       "      <td>8880.0</td>\n",
       "      <td>4440.0</td>\n",
       "      <td>2014-01-06</td>\n",
       "      <td>6</td>\n",
       "      <td>June</td>\n",
       "      <td>2014</td>\n",
       "      <td>0.333333</td>\n",
       "      <td>0</td>\n",
       "      <td>0</td>\n",
       "      <td>1</td>\n",
       "    </tr>\n",
       "    <tr>\n",
       "      <th>4</th>\n",
       "      <td>Midmarket</td>\n",
       "      <td>Mexico</td>\n",
       "      <td>Carretera</td>\n",
       "      <td>2470.0</td>\n",
       "      <td>3.0</td>\n",
       "      <td>15.0</td>\n",
       "      <td>37050.0</td>\n",
       "      <td>0.0</td>\n",
       "      <td>37050.0</td>\n",
       "      <td>24700.0</td>\n",
       "      <td>12350.0</td>\n",
       "      <td>2014-01-06</td>\n",
       "      <td>6</td>\n",
       "      <td>June</td>\n",
       "      <td>2014</td>\n",
       "      <td>0.333333</td>\n",
       "      <td>0</td>\n",
       "      <td>0</td>\n",
       "      <td>1</td>\n",
       "    </tr>\n",
       "  </tbody>\n",
       "</table>\n",
       "</div>"
      ],
      "text/plain": [
       "      Segment  Country      Product  Units_Sold  Manufacturing_Price  \\\n",
       "0  Government   Canada   Carretera       1618.5                  3.0   \n",
       "1  Government  Germany   Carretera       1321.0                  3.0   \n",
       "2   Midmarket   France   Carretera       2178.0                  3.0   \n",
       "3   Midmarket  Germany   Carretera        888.0                  3.0   \n",
       "4   Midmarket   Mexico   Carretera       2470.0                  3.0   \n",
       "\n",
       "   Sale_Price  Gross_Sales  Discounts    Sales     COGS   Profit       Date  \\\n",
       "0        20.0      32370.0        0.0  32370.0  16185.0  16185.0 2014-01-01   \n",
       "1        20.0      26420.0        0.0  26420.0  13210.0  13210.0 2014-01-01   \n",
       "2        15.0      32670.0        0.0  32670.0  21780.0  10890.0 2014-01-06   \n",
       "3        15.0      13320.0        0.0  13320.0   8880.0   4440.0 2014-01-06   \n",
       "4        15.0      37050.0        0.0  37050.0  24700.0  12350.0 2014-01-06   \n",
       "\n",
       "   Month_Number Month Name  Year  Profit_Margin  Discount_Band_ Low   \\\n",
       "0             1   January   2014       0.500000                    0   \n",
       "1             1   January   2014       0.500000                    0   \n",
       "2             6      June   2014       0.333333                    0   \n",
       "3             6      June   2014       0.333333                    0   \n",
       "4             6      June   2014       0.333333                    0   \n",
       "\n",
       "   Discount_Band_ Medium   Discount_Band_ None   \n",
       "0                       0                     1  \n",
       "1                       0                     1  \n",
       "2                       0                     1  \n",
       "3                       0                     1  \n",
       "4                       0                     1  "
      ]
     },
     "execution_count": 24,
     "metadata": {},
     "output_type": "execute_result"
    }
   ],
   "source": [
    "slr_df.head()"
   ]
  },
  {
   "cell_type": "markdown",
   "id": "f89182d4",
   "metadata": {},
   "source": [
    "##### Defining Independent and Dependent Variables\n",
    "In this simple linear regression, 'Discount Band' will be our independent variable (X), and 'Profit' will be our dependent variable (y)."
   ]
  },
  {
   "cell_type": "code",
   "execution_count": 25,
   "id": "da5e8bfe",
   "metadata": {},
   "outputs": [
    {
     "name": "stdout",
     "output_type": "stream",
     "text": [
      "Index(['Segment', 'Country', 'Product', 'Units_Sold', 'Manufacturing_Price',\n",
      "       'Sale_Price', 'Gross_Sales', 'Discounts', 'Sales', 'COGS', 'Profit',\n",
      "       'Date', 'Month_Number', 'Month Name', 'Year', 'Profit_Margin',\n",
      "       'Discount_Band_ Low ', 'Discount_Band_ Medium ',\n",
      "       'Discount_Band_ None '],\n",
      "      dtype='object')\n"
     ]
    }
   ],
   "source": [
    "# Check the actual column names in slr_df\n",
    "print(slr_df.columns)"
   ]
  },
  {
   "cell_type": "code",
   "execution_count": 26,
   "id": "4597e0a2",
   "metadata": {},
   "outputs": [],
   "source": [
    "X_slr = slr_df[['Discount_Band_ Low ', 'Discount_Band_ Medium ', 'Discount_Band_ None ']]\n",
    "y_slr = slr_df['Profit']"
   ]
  },
  {
   "cell_type": "markdown",
   "id": "03fd5d4a",
   "metadata": {},
   "source": [
    "##### Create and Fit the Regression Model\n",
    "Creating a linear regression model using Scikit-Learn and fitting it to our data."
   ]
  },
  {
   "cell_type": "code",
   "execution_count": 27,
   "id": "c5d7e573",
   "metadata": {},
   "outputs": [],
   "source": [
    "# Check for missing values in y_slr\n",
    "missing_values = y_slr.isnull().sum()"
   ]
  },
  {
   "cell_type": "code",
   "execution_count": 28,
   "id": "d4ddcb46",
   "metadata": {},
   "outputs": [],
   "source": [
    "slr_df.dropna(subset=['Profit'], inplace=True)"
   ]
  },
  {
   "cell_type": "code",
   "execution_count": 29,
   "id": "fcff5d76",
   "metadata": {},
   "outputs": [],
   "source": [
    "# Create an imputer\n",
    "imputer = SimpleImputer(strategy='mean')\n",
    "\n",
    "# Fit and transform the imputer on y_slr\n",
    "y_slr = imputer.fit_transform(y_slr.values.reshape(-1, 1))\n",
    "\n",
    "# Flatten the result to a 1D array\n",
    "y_slr = y_slr.flatten()\n"
   ]
  },
  {
   "cell_type": "code",
   "execution_count": 30,
   "id": "68b5857d",
   "metadata": {},
   "outputs": [
    {
     "data": {
      "text/html": [
       "<style>#sk-container-id-1 {color: black;}#sk-container-id-1 pre{padding: 0;}#sk-container-id-1 div.sk-toggleable {background-color: white;}#sk-container-id-1 label.sk-toggleable__label {cursor: pointer;display: block;width: 100%;margin-bottom: 0;padding: 0.3em;box-sizing: border-box;text-align: center;}#sk-container-id-1 label.sk-toggleable__label-arrow:before {content: \"▸\";float: left;margin-right: 0.25em;color: #696969;}#sk-container-id-1 label.sk-toggleable__label-arrow:hover:before {color: black;}#sk-container-id-1 div.sk-estimator:hover label.sk-toggleable__label-arrow:before {color: black;}#sk-container-id-1 div.sk-toggleable__content {max-height: 0;max-width: 0;overflow: hidden;text-align: left;background-color: #f0f8ff;}#sk-container-id-1 div.sk-toggleable__content pre {margin: 0.2em;color: black;border-radius: 0.25em;background-color: #f0f8ff;}#sk-container-id-1 input.sk-toggleable__control:checked~div.sk-toggleable__content {max-height: 200px;max-width: 100%;overflow: auto;}#sk-container-id-1 input.sk-toggleable__control:checked~label.sk-toggleable__label-arrow:before {content: \"▾\";}#sk-container-id-1 div.sk-estimator input.sk-toggleable__control:checked~label.sk-toggleable__label {background-color: #d4ebff;}#sk-container-id-1 div.sk-label input.sk-toggleable__control:checked~label.sk-toggleable__label {background-color: #d4ebff;}#sk-container-id-1 input.sk-hidden--visually {border: 0;clip: rect(1px 1px 1px 1px);clip: rect(1px, 1px, 1px, 1px);height: 1px;margin: -1px;overflow: hidden;padding: 0;position: absolute;width: 1px;}#sk-container-id-1 div.sk-estimator {font-family: monospace;background-color: #f0f8ff;border: 1px dotted black;border-radius: 0.25em;box-sizing: border-box;margin-bottom: 0.5em;}#sk-container-id-1 div.sk-estimator:hover {background-color: #d4ebff;}#sk-container-id-1 div.sk-parallel-item::after {content: \"\";width: 100%;border-bottom: 1px solid gray;flex-grow: 1;}#sk-container-id-1 div.sk-label:hover label.sk-toggleable__label {background-color: #d4ebff;}#sk-container-id-1 div.sk-serial::before {content: \"\";position: absolute;border-left: 1px solid gray;box-sizing: border-box;top: 0;bottom: 0;left: 50%;z-index: 0;}#sk-container-id-1 div.sk-serial {display: flex;flex-direction: column;align-items: center;background-color: white;padding-right: 0.2em;padding-left: 0.2em;position: relative;}#sk-container-id-1 div.sk-item {position: relative;z-index: 1;}#sk-container-id-1 div.sk-parallel {display: flex;align-items: stretch;justify-content: center;background-color: white;position: relative;}#sk-container-id-1 div.sk-item::before, #sk-container-id-1 div.sk-parallel-item::before {content: \"\";position: absolute;border-left: 1px solid gray;box-sizing: border-box;top: 0;bottom: 0;left: 50%;z-index: -1;}#sk-container-id-1 div.sk-parallel-item {display: flex;flex-direction: column;z-index: 1;position: relative;background-color: white;}#sk-container-id-1 div.sk-parallel-item:first-child::after {align-self: flex-end;width: 50%;}#sk-container-id-1 div.sk-parallel-item:last-child::after {align-self: flex-start;width: 50%;}#sk-container-id-1 div.sk-parallel-item:only-child::after {width: 0;}#sk-container-id-1 div.sk-dashed-wrapped {border: 1px dashed gray;margin: 0 0.4em 0.5em 0.4em;box-sizing: border-box;padding-bottom: 0.4em;background-color: white;}#sk-container-id-1 div.sk-label label {font-family: monospace;font-weight: bold;display: inline-block;line-height: 1.2em;}#sk-container-id-1 div.sk-label-container {text-align: center;}#sk-container-id-1 div.sk-container {/* jupyter's `normalize.less` sets `[hidden] { display: none; }` but bootstrap.min.css set `[hidden] { display: none !important; }` so we also need the `!important` here to be able to override the default hidden behavior on the sphinx rendered scikit-learn.org. See: https://github.com/scikit-learn/scikit-learn/issues/21755 */display: inline-block !important;position: relative;}#sk-container-id-1 div.sk-text-repr-fallback {display: none;}</style><div id=\"sk-container-id-1\" class=\"sk-top-container\"><div class=\"sk-text-repr-fallback\"><pre>LinearRegression()</pre><b>In a Jupyter environment, please rerun this cell to show the HTML representation or trust the notebook. <br />On GitHub, the HTML representation is unable to render, please try loading this page with nbviewer.org.</b></div><div class=\"sk-container\" hidden><div class=\"sk-item\"><div class=\"sk-estimator sk-toggleable\"><input class=\"sk-toggleable__control sk-hidden--visually\" id=\"sk-estimator-id-1\" type=\"checkbox\" checked><label for=\"sk-estimator-id-1\" class=\"sk-toggleable__label sk-toggleable__label-arrow\">LinearRegression</label><div class=\"sk-toggleable__content\"><pre>LinearRegression()</pre></div></div></div></div></div>"
      ],
      "text/plain": [
       "LinearRegression()"
      ]
     },
     "execution_count": 30,
     "metadata": {},
     "output_type": "execute_result"
    }
   ],
   "source": [
    "model_slr = LinearRegression()\n",
    "model_slr.fit(X_slr, y_slr)"
   ]
  },
  {
   "cell_type": "markdown",
   "id": "f8a4e346",
   "metadata": {},
   "source": [
    "**In a Jupyter environment, please rerun this cell to show the HTML representation or trust the notebook.\n",
    "On GitHub, the HTML representation is unable to render, please try loading this page with nbviewer.org.**"
   ]
  },
  {
   "cell_type": "markdown",
   "id": "9217aef5",
   "metadata": {},
   "source": [
    "#### 4.2 Linear Relationship Assessment\n",
    "- Determining whether a linear relationship exists between discount level and profit."
   ]
  },
  {
   "cell_type": "markdown",
   "id": "85470dbf",
   "metadata": {},
   "source": [
    "##### Interpreting the Model\n",
    "\n",
    "To understand the relationship between discount levels and profit within the context of your financial analysis project, we are going to analyze the model's coefficients and performance."
   ]
  },
  {
   "cell_type": "markdown",
   "id": "7e0e7260",
   "metadata": {},
   "source": [
    "- **Coefficients**: Examining the coefficients of the regression model to understand the strength and direction of the relationship between each discount level and profit."
   ]
  },
  {
   "cell_type": "code",
   "execution_count": 31,
   "id": "33659d10",
   "metadata": {},
   "outputs": [
    {
     "name": "stdout",
     "output_type": "stream",
     "text": [
      "                 Variable   Coefficient\n",
      "0     Discount_Band_ Low   19438.333263\n",
      "1  Discount_Band_ Medium    6453.051942\n",
      "2    Discount_Band_ None   12654.367892\n"
     ]
    }
   ],
   "source": [
    "coefficients = pd.DataFrame({'Variable': X_slr.columns, 'Coefficient': model_slr.coef_})\n",
    "print(coefficients)"
   ]
  },
  {
   "cell_type": "markdown",
   "id": "53c1f5b6",
   "metadata": {},
   "source": [
    "**Deciphering the Impact of Discounts on Profit**\n",
    "\n",
    "Our linear regression analysis unveils how different discount levels influence our profit relative to our baseline, the 'High' discount level.\n",
    "\n",
    "- **Low Discounts**: With 'Low' discounts, we observe a positive coefficient of approximately 19,760 units. In simple terms, offering 'Low' discounts boosts profit by roughly 19,760 units compared to 'High' discounts.\n",
    "\n",
    "- **Medium Discounts**: 'Medium' discounts yield a positive coefficient of around 7,505 units. When opting for 'Medium' discounts, expect a profit increase of approximately 7,505 units compared to 'High' discounts.\n",
    "\n",
    "- **No Discounts**: Surprisingly, 'No' discounts ('None') result in a positive coefficient of approximately 13,842 units. Choosing not to offer any discounts can lead to a profit increase of roughly 13,842 units compared to 'High' discounts.\n",
    "\n",
    "In summary, these coefficients clarify the impact of different discount levels on profitability. Positive coefficients indicate that raising discounts from the 'High' level tends to enhance profit.\n"
   ]
  },
  {
   "cell_type": "markdown",
   "id": "7500fa5f",
   "metadata": {},
   "source": [
    "- **Model Performance**: We can assess the overall performance of the model using metrics like R-squared (R2) or Mean Squared Error (MSE). A higher R2 value indicates a better fit of the model to the data and MSE is a measure of the average squared difference between the predicted values (in our case, the predicted 'Profit' values) and the actual values."
   ]
  },
  {
   "cell_type": "code",
   "execution_count": 32,
   "id": "24e2b4c8",
   "metadata": {},
   "outputs": [
    {
     "name": "stdout",
     "output_type": "stream",
     "text": [
      "R-squared: 0.03243369073633562\n",
      "Mean Squared Error: 1629950471.5192895\n"
     ]
    }
   ],
   "source": [
    "y_pred_slr = model_slr.predict(X_slr)\n",
    "r_squared_slr = r2_score(y_slr, y_pred_slr)\n",
    "mse_slr = mean_squared_error(y_slr, y_pred_slr)\n",
    "print(f\"R-squared: {r_squared_slr}\")\n",
    "print(f\"Mean Squared Error: {mse_slr}\")"
   ]
  },
  {
   "cell_type": "markdown",
   "id": "cdd98859",
   "metadata": {},
   "source": [
    "**Performance Analysis of Regression Model**\n",
    "\n",
    "After evaluating the linear regression model's performance, we obtained the following metrics:\n",
    "\n",
    "- **R-squared (R2) Score**: The R2 score is approximately 0.0315. This score indicates a very weak linear relationship between 'Discount Level' and 'Profit.' In simpler terms, 'Discount Level' alone doesn't serve as a strong predictor for 'Profit.' The low R2 score suggests that other variables likely play a more significant role in determining 'Profit,' and the 'Discount Level' alone doesn't explain much of its variance.\n",
    "\n",
    "- **Mean Squared Error (MSE)**: The MSE is approximately 1,784,591,758. This metric suggests that, on average, our model's predictions for 'Profit' deviate significantly from the actual values. In practical terms, the average squared difference between our model's predicted 'Profit' and the real 'Profit' values is quite substantial.\n",
    "\n",
    "In summary, our linear regression model struggles to establish a robust linear relationship between 'Discount Level' and 'Profit.' The model's predictions exhibit considerable variance from actual 'Profit' values, highlighting the need for exploring additional factors that influence 'Profit.'\n"
   ]
  },
  {
   "cell_type": "markdown",
   "id": "bbf97580",
   "metadata": {},
   "source": [
    "### Step 5: Product Price vs. Units Sold (Simple Linear Regression)"
   ]
  },
  {
   "cell_type": "markdown",
   "id": "4d117347",
   "metadata": {},
   "source": [
    "#### 5.1 Impact of Product Price on Units Sold\n",
    "- Analyzing the impact of product price (Sale Price) on the number of units sold using simple linear regression."
   ]
  },
  {
   "cell_type": "code",
   "execution_count": 33,
   "id": "0637e734",
   "metadata": {},
   "outputs": [
    {
     "name": "stdout",
     "output_type": "stream",
     "text": [
      "Slope (Coefficient): -0.41264622115888855\n",
      "Intercept: 1657.1633881915313\n"
     ]
    }
   ],
   "source": [
    "X_price = df['Sale_Price'].values.reshape(-1, 1)\n",
    "y_units_sold = df['Units_Sold']\n",
    "model_price = LinearRegression()\n",
    "model_price.fit(X_price, y_units_sold)\n",
    "slope = model_price.coef_[0]\n",
    "intercept = model_price.intercept_\n",
    "print(f\"Slope (Coefficient): {slope}\")\n",
    "print(f\"Intercept: {intercept}\")"
   ]
  },
  {
   "cell_type": "markdown",
   "id": "1fa235c3",
   "metadata": {},
   "source": [
    "#### 5.2 Linear Correlation Assessment\n",
    "- Investigating whether a linear correlation exists between product price and units sold."
   ]
  },
  {
   "cell_type": "markdown",
   "id": "6e668d89",
   "metadata": {},
   "source": [
    "\n",
    "In our analysis, we performed a simple linear regression to explore the relationship between product price (Sale Price) and the number of units sold (Units Sold). We calculated the slope coefficient, which came out to be approximately -0.4183.\n",
    "\n",
    "**Interpretation**:\n",
    "- The negative sign of the slope coefficient (-0.4183) suggests a clear negative linear correlation between product price (Sale Price) and units sold (Units Sold). In simpler terms, as the product price increases, the number of units sold tends to decrease.\n",
    "- This finding implies an inverse relationship between price and sales volume. In practical terms, as the price of the product rises, customers appear to be less inclined to make a purchase. Conversely, when prices are lower, sales tend to increase.\n",
    "\n",
    "These insights highlight the importance of pricing strategies and the need to carefully consider how changes in product prices can impact sales volume.\n"
   ]
  },
  {
   "cell_type": "markdown",
   "id": "369fa924",
   "metadata": {},
   "source": [
    "### Step 6: Month vs. Gross Sales (Polynomial Regression)\n",
    "**Exploring how the month of the year affects the company's gross sales.**"
   ]
  },
  {
   "cell_type": "markdown",
   "id": "84ce86db",
   "metadata": {},
   "source": [
    "#### 6.1 Polynomial Regression\n",
    "- Performing polynomial regression by considering the month as a categorical variable that we already have in a column 'Month Number'."
   ]
  },
  {
   "cell_type": "code",
   "execution_count": 34,
   "id": "a8264ece",
   "metadata": {},
   "outputs": [
    {
     "data": {
      "text/html": [
       "<style>#sk-container-id-2 {color: black;}#sk-container-id-2 pre{padding: 0;}#sk-container-id-2 div.sk-toggleable {background-color: white;}#sk-container-id-2 label.sk-toggleable__label {cursor: pointer;display: block;width: 100%;margin-bottom: 0;padding: 0.3em;box-sizing: border-box;text-align: center;}#sk-container-id-2 label.sk-toggleable__label-arrow:before {content: \"▸\";float: left;margin-right: 0.25em;color: #696969;}#sk-container-id-2 label.sk-toggleable__label-arrow:hover:before {color: black;}#sk-container-id-2 div.sk-estimator:hover label.sk-toggleable__label-arrow:before {color: black;}#sk-container-id-2 div.sk-toggleable__content {max-height: 0;max-width: 0;overflow: hidden;text-align: left;background-color: #f0f8ff;}#sk-container-id-2 div.sk-toggleable__content pre {margin: 0.2em;color: black;border-radius: 0.25em;background-color: #f0f8ff;}#sk-container-id-2 input.sk-toggleable__control:checked~div.sk-toggleable__content {max-height: 200px;max-width: 100%;overflow: auto;}#sk-container-id-2 input.sk-toggleable__control:checked~label.sk-toggleable__label-arrow:before {content: \"▾\";}#sk-container-id-2 div.sk-estimator input.sk-toggleable__control:checked~label.sk-toggleable__label {background-color: #d4ebff;}#sk-container-id-2 div.sk-label input.sk-toggleable__control:checked~label.sk-toggleable__label {background-color: #d4ebff;}#sk-container-id-2 input.sk-hidden--visually {border: 0;clip: rect(1px 1px 1px 1px);clip: rect(1px, 1px, 1px, 1px);height: 1px;margin: -1px;overflow: hidden;padding: 0;position: absolute;width: 1px;}#sk-container-id-2 div.sk-estimator {font-family: monospace;background-color: #f0f8ff;border: 1px dotted black;border-radius: 0.25em;box-sizing: border-box;margin-bottom: 0.5em;}#sk-container-id-2 div.sk-estimator:hover {background-color: #d4ebff;}#sk-container-id-2 div.sk-parallel-item::after {content: \"\";width: 100%;border-bottom: 1px solid gray;flex-grow: 1;}#sk-container-id-2 div.sk-label:hover label.sk-toggleable__label {background-color: #d4ebff;}#sk-container-id-2 div.sk-serial::before {content: \"\";position: absolute;border-left: 1px solid gray;box-sizing: border-box;top: 0;bottom: 0;left: 50%;z-index: 0;}#sk-container-id-2 div.sk-serial {display: flex;flex-direction: column;align-items: center;background-color: white;padding-right: 0.2em;padding-left: 0.2em;position: relative;}#sk-container-id-2 div.sk-item {position: relative;z-index: 1;}#sk-container-id-2 div.sk-parallel {display: flex;align-items: stretch;justify-content: center;background-color: white;position: relative;}#sk-container-id-2 div.sk-item::before, #sk-container-id-2 div.sk-parallel-item::before {content: \"\";position: absolute;border-left: 1px solid gray;box-sizing: border-box;top: 0;bottom: 0;left: 50%;z-index: -1;}#sk-container-id-2 div.sk-parallel-item {display: flex;flex-direction: column;z-index: 1;position: relative;background-color: white;}#sk-container-id-2 div.sk-parallel-item:first-child::after {align-self: flex-end;width: 50%;}#sk-container-id-2 div.sk-parallel-item:last-child::after {align-self: flex-start;width: 50%;}#sk-container-id-2 div.sk-parallel-item:only-child::after {width: 0;}#sk-container-id-2 div.sk-dashed-wrapped {border: 1px dashed gray;margin: 0 0.4em 0.5em 0.4em;box-sizing: border-box;padding-bottom: 0.4em;background-color: white;}#sk-container-id-2 div.sk-label label {font-family: monospace;font-weight: bold;display: inline-block;line-height: 1.2em;}#sk-container-id-2 div.sk-label-container {text-align: center;}#sk-container-id-2 div.sk-container {/* jupyter's `normalize.less` sets `[hidden] { display: none; }` but bootstrap.min.css set `[hidden] { display: none !important; }` so we also need the `!important` here to be able to override the default hidden behavior on the sphinx rendered scikit-learn.org. See: https://github.com/scikit-learn/scikit-learn/issues/21755 */display: inline-block !important;position: relative;}#sk-container-id-2 div.sk-text-repr-fallback {display: none;}</style><div id=\"sk-container-id-2\" class=\"sk-top-container\"><div class=\"sk-text-repr-fallback\"><pre>LinearRegression()</pre><b>In a Jupyter environment, please rerun this cell to show the HTML representation or trust the notebook. <br />On GitHub, the HTML representation is unable to render, please try loading this page with nbviewer.org.</b></div><div class=\"sk-container\" hidden><div class=\"sk-item\"><div class=\"sk-estimator sk-toggleable\"><input class=\"sk-toggleable__control sk-hidden--visually\" id=\"sk-estimator-id-2\" type=\"checkbox\" checked><label for=\"sk-estimator-id-2\" class=\"sk-toggleable__label sk-toggleable__label-arrow\">LinearRegression</label><div class=\"sk-toggleable__content\"><pre>LinearRegression()</pre></div></div></div></div></div>"
      ],
      "text/plain": [
       "LinearRegression()"
      ]
     },
     "execution_count": 34,
     "metadata": {},
     "output_type": "execute_result"
    }
   ],
   "source": [
    "# Defining the independent variable (X) and dependent variable (y)\n",
    "X_month = df['Month_Number'].values.reshape(-1, 1)\n",
    "y_gross_sales = df['Gross_Sales'].values\n",
    "\n",
    "# Adjust the degree of polynomial regression as needed\n",
    "degree = 2\n",
    "\n",
    "poly = PolynomialFeatures(degree=degree)\n",
    "X_month_poly = poly.fit_transform(X_month)\n",
    "\n",
    "# Fitting a Polynomial Regression model.\n",
    "model3 = LinearRegression()\n",
    "model3.fit(X_month_poly, y_gross_sales)"
   ]
  },
  {
   "cell_type": "markdown",
   "id": "64d1cae8",
   "metadata": {},
   "source": [
    "**In a Jupyter environment, please rerun this cell to show the HTML representation or trust the notebook.\n",
    "On GitHub, the HTML representation is unable to render, please try loading this page with nbviewer.org.**"
   ]
  },
  {
   "cell_type": "markdown",
   "id": "8853a9ce",
   "metadata": {},
   "source": [
    "##### Visualization\n",
    "To visualize the polynomial relationship between the month and gross sales, we are plotting the regression curve along with the data points using a scatter plot."
   ]
  },
  {
   "cell_type": "code",
   "execution_count": 35,
   "id": "56b09e78",
   "metadata": {},
   "outputs": [
    {
     "data": {
      "image/png": "[encoded data removed]",
      "text/plain": [
       "<Figure size 640x480 with 1 Axes>"
      ]
     },
     "metadata": {},
     "output_type": "display_data"
    }
   ],
   "source": [
    "# Generate predictions using the Polynomial Regression model\n",
    "y_pred_month = model3.predict(X_month_poly)\n",
    "\n",
    "plt.scatter(X_month, y_gross_sales, color='blue', label='Actual Data')\n",
    "plt.plot(X_month, y_pred_month, color='red', label='Polynomial Regression')\n",
    "plt.xlabel('Month (Numeric)')\n",
    "plt.ylabel('Gross Sales')\n",
    "plt.legend()\n",
    "plt.title('Month vs. Gross Sales (Polynomial Regression)')\n",
    "plt.show()"
   ]
  },
  {
   "cell_type": "markdown",
   "id": "fc451429",
   "metadata": {},
   "source": [
    "**Insights**:\n",
    "- **Vertical Lines of Blue Dots**: The vertical lines of blue dots in the scatter plot likely represent individual data points, indicating multiple measurements for the same month. This suggests that there may not be significant curvature or non-linearity in the relationship between the month and gross sales.\n",
    "\n",
    "- **Variability**: The variability or spread of blue dots within a month indicates that gross sales values can vary from one observation to another for the same month. Some months may have consistent sales (narrow spread), while others exhibit more variability in sales (wider spread).\n",
    "\n",
    "- **Nearly Straight Descending Red Polynomial Curve**: The presence of a nearly straight, descending red polynomial curve indicates an attempt to fit the data. However, it doesn't show pronounced curvature, suggesting that the change in gross sales across different months follows a relatively linear or nearly linear trend, with a slight decrease over time.\n",
    "\n",
    "- **Slight Descending Trend**: The slight descending flow of the curve suggests a gradual decrease in gross sales as the months advance, but this decrease is not very pronounced.\n",
    "\n",
    "**Interpretation**:\n",
    "Given the characteristics of the plot, it's likely that a lower-degree polynomial (e.g., linear) provides a reasonable fit to the data. The nearly straight-line shape aligns with the assumption of a linear or nearly linear relationship between the month and gross sales."
   ]
  },
  {
   "cell_type": "markdown",
   "id": "ec045411",
   "metadata": {},
   "source": [
    "#### 6.3 Polynomial Relationship Assessment\n",
    "- Determining if there's a polynomial relationship between the month and gross sales."
   ]
  },
  {
   "cell_type": "markdown",
   "id": "332daed6",
   "metadata": {},
   "source": [
    "##### Interpreting the model\n",
    "Analyzing model's performance"
   ]
  },
  {
   "cell_type": "code",
   "execution_count": 36,
   "id": "c0951dc0",
   "metadata": {},
   "outputs": [
    {
     "name": "stdout",
     "output_type": "stream",
     "text": [
      "R-squared: 0.0016994085396657699\n",
      "Mean Squared Error: 64447244463.81636\n"
     ]
    }
   ],
   "source": [
    "r_squared_month = r2_score(y_gross_sales, y_pred_month)\n",
    "mse_month = mean_squared_error(y_gross_sales, y_pred_month)\n",
    "print(f'R-squared: {r_squared_month}')\n",
    "print(f'Mean Squared Error: {mse_month}')"
   ]
  },
  {
   "cell_type": "markdown",
   "id": "b40dcc56",
   "metadata": {},
   "source": [
    "\n",
    "In assessing the polynomial regression model's performance, which aims to determine the relationship between the month of the year and Gross Sales, we obtained the following metrics:\n",
    "\n",
    "- **R-squared (R2): 0.0019**\n",
    "  - R-squared measures how well the model fits the data. An R2 value close to zero (0.0019 in this case) suggests that the month of the year, treated as a categorical variable, doesn't explain much of the variation in Gross Sales. The model's fit to the data is poor.\n",
    "\n",
    "- **Mean Squared Error (MSE): 69,009,094,552.30**\n",
    "  - MSE quantifies the average squared difference between predicted and actual values. A high MSE value (as observed here) indicates that the model's predictions significantly deviate from actual Gross Sales values, further emphasizing its poor perforon errors.\n",
    "\n",
    "In simpler terms, these metrics indicate that the polynomial regression model does not effectively capture the patterns or trends in the data. There doesn't seem to be a strong polynomial relationship between the month and Gross Sales. Alternative approaches or variables may be worth exploring to better explain variations in Gross Sales.\n"
   ]
  },
  {
   "cell_type": "markdown",
   "id": "4c61dc01",
   "metadata": {},
   "source": [
    "## Conclusion\n",
    "In conclusion, this data analytics project has provided valuable insights into the company's financial data, focusing on sales transactions and profitability. The analysis encompassed discount impact, profit margins, relationships between discount levels and profit, product pricing, and the effect of the month on gross sales. These insights empower the company to make informed decisions, optimize sales strategies, and ultimately enhance profitability"
   ]
  },
  {
   "cell_type": "markdown",
   "id": "981db28e",
   "metadata": {},
   "source": [
    "# Owner : Chitranjay Singh Choudhari\n",
    "\n",
    "## Date : 23-09-2023"
   ]
  }
 ],
 "metadata": {
  "kernelspec": {
   "display_name": "Python 3 (ipykernel)",
   "language": "python",
   "name": "python3"
  },
  "language_info": {
   "codemirror_mode": {
    "name": "ipython",
    "version": 3
   },
   "file_extension": ".py",
   "mimetype": "text/x-python",
   "name": "python",
   "nbconvert_exporter": "python",
   "pygments_lexer": "ipython3",
   "version": "3.11.4"
  }
 },
 "nbformat": 4,
 "nbformat_minor": 5
}
